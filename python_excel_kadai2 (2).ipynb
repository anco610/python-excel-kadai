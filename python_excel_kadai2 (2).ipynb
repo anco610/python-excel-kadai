{
  "nbformat": 4,
  "nbformat_minor": 0,
  "metadata": {
    "colab": {
      "provenance": []
    },
    "kernelspec": {
      "name": "python3",
      "display_name": "Python 3"
    },
    "language_info": {
      "name": "python"
    }
  },
  "cells": [
    {
      "cell_type": "code",
      "execution_count": null,
      "metadata": {
        "id": "SWsezZ2BC9cx"
      },
      "outputs": [],
      "source": []
    },
    {
      "cell_type": "code",
      "source": [
        "import pandas as pd\n",
        "from openpyxl import load_workbook\n",
        "\n",
        "df = pd.DataFrame({\n",
        "    '日付': ['2023-05-17', '2023-05-18', '2023-05-19', '2023-05-20', '2023-05-21'],\n",
        "    '社員名': ['山田', '佐藤', '鈴木', '田中', '高橋'],\n",
        "    '売上': [100, 200, 150, 300, 250],\n",
        "    '部門': ['メーカー', '代理店', 'メーカー', '商社', '代理店'],\n",
        "})\n",
        "\n",
        "average_sales = df['売上'].mean()\n",
        "df['平均売上'] = average_sales\n",
        "\n",
        "def performance(row):\n",
        "    sales = row['売上']\n",
        "    average_sales = row['平均売上']\n",
        "    if sales >= average_sales + 50:\n",
        "        return 'A'\n",
        "    elif sales >= average_sales:\n",
        "        return 'B'\n",
        "    else:\n",
        "        return 'C'\n",
        "\n",
        "df['業績ランク'] = df.apply(performance,axis=1)\n",
        "\n",
        "writer = pd.ExcelWriter('業績.xlsx')\n",
        "df.to_excel(writer, sheet_name='sheet1', index=False)\n",
        "writer.close()\n",
        "\n",
        "wb = load_workbook('業績.xlsx')\n",
        "sheet = wb['sheet1']\n",
        "\n",
        "\n",
        "columns = ['A', 'B', 'C', 'D', 'E', 'F']\n",
        "widths = [15, 10, 10, 15, 10, 10]\n",
        "\n",
        "for col, width in zip(columns, widths):\n",
        "    sheet.column_dimensions[col].width = width\n",
        "\n",
        "wb.save('業績.xlsx')\n"
      ],
      "metadata": {
        "id": "m7G5Fch-dLp9"
      },
      "execution_count": 1,
      "outputs": []
    }
  ]
}