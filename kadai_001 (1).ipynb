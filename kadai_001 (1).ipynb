{
  "nbformat": 4,
  "nbformat_minor": 0,
  "metadata": {
    "colab": {
      "provenance": []
    },
    "kernelspec": {
      "name": "python3",
      "display_name": "Python 3"
    },
    "language_info": {
      "name": "python"
    }
  },
  "cells": [
    {
      "cell_type": "code",
      "execution_count": 7,
      "metadata": {
        "id": "JuCriKcs4gDd"
      },
      "outputs": [],
      "source": [
        "import openpyxl\n",
        "workbook = openpyxl.Workbook()\n",
        "ws = workbook.active\n",
        "\n",
        "ws['B2'] = '請求書'\n",
        "ws['B4'] = '株式会社ABC'\n",
        "ws['B5'] = '〒101-0022 東京都千代田区神田練塀町300'\n",
        "ws['B6'] = 'TEL:03-1234-5678 FAX:03-1234-5678'\n",
        "ws['B7'] = '担当者名:鈴木一郎 様'\n",
        "ws['F4'] = 'NO.'\n",
        "ws['G4'] = '0001'\n",
        "ws['F5'] = '日付'\n",
        "\n",
        "from datetime import datetime\n",
        "today = datetime.today()\n",
        "ws['G5'] = today.strftime('%Y/%m/%d')\n",
        "\n",
        "ws.column_dimensions['E'].width = 15\n",
        "\n",
        "header = ['','商品名','数量','単価','金額']\n",
        "ws.append(header)\n",
        "\n",
        "ws.insert_rows(8, 2)\n",
        "\n",
        "date = [\n",
        "    ['', '商品A', 2, 10000, 20000],\n",
        "    ['', '商品B', 1, 15000, 15000],\n",
        "    ['', '', '', '', 35000]\n",
        "]\n",
        "\n",
        "for row in date:\n",
        "    ws.append(row)\n",
        "\n",
        "ws.append([])\n",
        "ws.append(['', '小計', '', '', '=E13'])\n",
        "ws.append(['', '消費税', '', '', '=E13 * 0.1'])\n",
        "ws.append(['', '合計', '', '', '=E15 + E16'])\n",
        "\n",
        "backup_ws = f\"請求書_{today.strftime('%Y%m%d')}.xlsx\"\n",
        "workbook.save(backup_ws)"
      ]
    }
  ]
}